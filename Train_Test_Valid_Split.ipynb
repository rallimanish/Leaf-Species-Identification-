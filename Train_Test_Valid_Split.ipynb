{
 "cells": [
  {
   "cell_type": "code",
   "execution_count": 14,
   "metadata": {},
   "outputs": [],
   "source": [
    "# Importing all the Libraries\n",
    "\n",
    "import os\n",
    "import shutil\n",
    "import random"
   ]
  },
  {
   "cell_type": "code",
   "execution_count": 18,
   "metadata": {},
   "outputs": [],
   "source": [
    "# Setting up Paths\n",
    "\n",
    "train_path = '../Data/train'\n",
    "test_path = '../Data/test'\n",
    "val_path = '../Data/val'"
   ]
  },
  {
   "cell_type": "code",
   "execution_count": 16,
   "metadata": {},
   "outputs": [],
   "source": [
    "# Iterating over all the classes and randomly selecting 20 images\n",
    "# and moving these images into their corresponding test classes\n",
    "\n",
    "for train_class in os.listdir(train_path):\n",
    "    path = os.path.join(train_path, train_class)\n",
    "    class_imgs = [os.path.join(path, k) for k in os.listdir(path)]\n",
    "    selected_imgs = random.sample(class_imgs, 20)\n",
    "    mynum = 1\n",
    "    for img in selected_imgs:\n",
    "        shutil.move(img, \"{}/{}/new_{}.jpg\".format(test_path, train_class, mynum))\n",
    "        mynum = mynum + 1"
   ]
  },
  {
   "cell_type": "code",
   "execution_count": 19,
   "metadata": {},
   "outputs": [],
   "source": [
    "# Iterating over all the classes and randomly selecting 20 images\n",
    "# and moving these images into their corresponding Validation classes\n",
    "\n",
    "for train_class in os.listdir(train_path):\n",
    "    path = os.path.join(train_path, train_class)\n",
    "    class_imgs = [os.path.join(path, k) for k in os.listdir(path)]\n",
    "    selected_imgs = random.sample(class_imgs, 20)\n",
    "    mynum = 1\n",
    "    for img in selected_imgs:\n",
    "        shutil.move(img, \"{}/{}/new_{}.jpg\".format(val_path, train_class, mynum))\n",
    "        mynum = mynum + 1"
   ]
  },
  {
   "cell_type": "markdown",
   "metadata": {},
   "source": [
    "---"
   ]
  }
 ],
 "metadata": {
  "kernelspec": {
   "display_name": "Python 3",
   "language": "python",
   "name": "python3"
  },
  "language_info": {
   "codemirror_mode": {
    "name": "ipython",
    "version": 3
   },
   "file_extension": ".py",
   "mimetype": "text/x-python",
   "name": "python",
   "nbconvert_exporter": "python",
   "pygments_lexer": "ipython3",
   "version": "3.6.7"
  }
 },
 "nbformat": 4,
 "nbformat_minor": 2
}
