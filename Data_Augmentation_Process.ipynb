{
 "cells": [
  {
   "cell_type": "code",
   "execution_count": 1,
   "metadata": {},
   "outputs": [
    {
     "name": "stderr",
     "output_type": "stream",
     "text": [
      "Using TensorFlow backend.\n"
     ]
    }
   ],
   "source": [
    "# Importing all the Libraries\n",
    "\n",
    "import warnings\n",
    "warnings.filterwarnings('ignore')\n",
    "\n",
    "import os\n",
    "import numpy as np\n",
    "import cv2\n",
    "import scipy.ndimage\n",
    "import matplotlib.pyplot as plt\n",
    "%matplotlib inline\n",
    "\n",
    "from keras.preprocessing.image import ImageDataGenerator"
   ]
  },
  {
   "cell_type": "code",
   "execution_count": 2,
   "metadata": {},
   "outputs": [],
   "source": [
    "# Creating our Image Data Generator for Data Augmentation\n",
    "\n",
    "gen = ImageDataGenerator(\n",
    "        rotation_range=10,\n",
    "        width_shift_range=0.1,\n",
    "        height_shift_range=0.15,\n",
    "        zoom_range=0.1,\n",
    "        channel_shift_range=10,\n",
    "        horizontal_flip=True,\n",
    "        )"
   ]
  },
  {
   "cell_type": "code",
   "execution_count": 3,
   "metadata": {},
   "outputs": [],
   "source": [
    "# Setting up the Train Path\n",
    "\n",
    "train_path = '../Data_Stanford/train/'"
   ]
  },
  {
   "cell_type": "code",
   "execution_count": 4,
   "metadata": {},
   "outputs": [],
   "source": [
    "# Collecting up train paths for all classes and storing it into a list\n",
    "\n",
    "train_paths = [os.path.join(train_path, classes) for classes in os.listdir(train_path)]"
   ]
  },
  {
   "cell_type": "code",
   "execution_count": 5,
   "metadata": {
    "scrolled": true
   },
   "outputs": [],
   "source": [
    "# Iterating over all the paths and created 10 augmented images from each image\n",
    "\n",
    "for path in train_paths:\n",
    "    \n",
    "    # Selecting all the images from the selected path\n",
    "    class_imgs = [os.path.join(path, k) for k in os.listdir(path)]\n",
    "    \n",
    "    mynum = 1\n",
    "    # Iterating over the images one by one and create 10 augmented images from each one\n",
    "    for img in class_imgs:\n",
    "        image = np.expand_dims(scipy.ndimage.imread(img),0)\n",
    "        aug_iter = gen.flow(image)\n",
    "        aug_images = [next(aug_iter)[0].astype(np.uint8) for i in range(10)]\n",
    "        # Saving the images into the same path directory\n",
    "        for aug_img in aug_images:\n",
    "            cv2.imwrite(\"{}/aug_{}.jpg\".format(path,mynum), aug_img)\n",
    "            mynum = mynum + 1"
   ]
  }
 ],
 "metadata": {
  "kernelspec": {
   "display_name": "Python 3",
   "language": "python",
   "name": "python3"
  },
  "language_info": {
   "codemirror_mode": {
    "name": "ipython",
    "version": 3
   },
   "file_extension": ".py",
   "mimetype": "text/x-python",
   "name": "python",
   "nbconvert_exporter": "python",
   "pygments_lexer": "ipython3",
   "version": "3.6.7"
  }
 },
 "nbformat": 4,
 "nbformat_minor": 2
}
