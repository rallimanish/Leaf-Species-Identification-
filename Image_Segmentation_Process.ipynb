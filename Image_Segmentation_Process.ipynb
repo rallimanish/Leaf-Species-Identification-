{
 "cells": [
  {
   "cell_type": "code",
   "execution_count": 2,
   "metadata": {},
   "outputs": [],
   "source": [
    "# Importing the required Libraries\n",
    "\n",
    "import cv2\n",
    "import matplotlib.pyplot as plt\n",
    "import numpy as np\n",
    "import os\n",
    "\n",
    "import warnings\n",
    "warnings.filterwarnings('ignore')\n",
    "%matplotlib inline"
   ]
  },
  {
   "cell_type": "code",
   "execution_count": 6,
   "metadata": {},
   "outputs": [],
   "source": [
    "# Setting up all train, test and validation paths\n",
    "\n",
    "train_path = '../Data/train'\n",
    "test_path = '../Data/test'\n",
    "valid_path = '../Data/val'"
   ]
  },
  {
   "cell_type": "code",
   "execution_count": 5,
   "metadata": {},
   "outputs": [],
   "source": [
    "# Collecting up train paths for all classes and storing it into a list\n",
    "\n",
    "train_paths = [os.path.join(train_path, classes) for classes in os.listdir(train_path)]"
   ]
  },
  {
   "cell_type": "code",
   "execution_count": 17,
   "metadata": {},
   "outputs": [],
   "source": [
    "# Iterating over all the paths and segmenting each image\n",
    "\n",
    "for path in train_paths:\n",
    "    \n",
    "    # Selecting all the images from the selected path\n",
    "    class_imgs = [os.path.join(path, k) for k in os.listdir(path)]\n",
    "    \n",
    "    # Iterating over the images one by one and segmenting each one\n",
    "    for img in class_imgs:\n",
    "        \n",
    "        # Reading the RGB image\n",
    "        image_RGB = cv2.imread(img, 1)\n",
    "        \n",
    "        # Converting to GRAY_SCALE\n",
    "        image_GRAY = cv2.cvtColor(image_RGB, cv2.COLOR_BGR2GRAY)\n",
    "        \n",
    "        # Segmenting the images\n",
    "        ret, thresh = cv2.threshold(image_GRAY,0,255,cv2.THRESH_BINARY_INV+cv2.THRESH_OTSU)\n",
    "        \n",
    "        # Noise Removal Process\n",
    "        # Closing operation \n",
    "        kernel = np.ones((3, 3), np.uint8) \n",
    "        closing = cv2.morphologyEx(thresh, cv2.MORPH_CLOSE, kernel, iterations = 2) \n",
    "        # Background area using Dialation \n",
    "        bg = cv2.dilate(closing, kernel, iterations = 1)   \n",
    "        # Finding foreground area \n",
    "        dist_transform = cv2.distanceTransform(closing, cv2.DIST_L2, 0) \n",
    "        ret, fg = cv2.threshold(dist_transform, 0.01 * dist_transform.max(), 255, 0)\n",
    "        \n",
    "        # Saving the images into segmented directory\n",
    "        cv2.imwrite(\"../Data/train_segmented/{}/{}\".format(int(path.split('/')[-1]), img.split('\\\\')[1]), fg)"
   ]
  },
  {
   "cell_type": "markdown",
   "metadata": {},
   "source": [
    "---"
   ]
  },
  {
   "cell_type": "code",
   "execution_count": 18,
   "metadata": {},
   "outputs": [],
   "source": [
    "# Collecting up test and validation paths for all classes and storing it into a list\n",
    "\n",
    "test_paths = [os.path.join(test_path, classes) for classes in os.listdir(test_path)]\n",
    "valid_paths = [os.path.join(valid_path, classes) for classes in os.listdir(valid_path)]"
   ]
  },
  {
   "cell_type": "code",
   "execution_count": 25,
   "metadata": {},
   "outputs": [],
   "source": [
    "for path in test_paths:\n",
    "    \n",
    "    # Selecting all the images from the selected path\n",
    "    class_imgs = [os.path.join(path, k) for k in os.listdir(path)]\n",
    "    \n",
    "    # Iterating over the images one by one and segmenting each one\n",
    "    for img in class_imgs:\n",
    "        \n",
    "        # Reading the RGB image\n",
    "        image_RGB = cv2.imread(img, 1)\n",
    "        \n",
    "        # Converting to GRAY_SCALE\n",
    "        image_GRAY = cv2.cvtColor(image_RGB, cv2.COLOR_BGR2GRAY)\n",
    "        \n",
    "        # Segmenting the images\n",
    "        ret, thresh = cv2.threshold(image_GRAY,0,255,cv2.THRESH_BINARY_INV+cv2.THRESH_OTSU)\n",
    "        \n",
    "        # Noise Removal Process\n",
    "        # Closing operation \n",
    "        kernel = np.ones((3, 3), np.uint8) \n",
    "        closing = cv2.morphologyEx(thresh, cv2.MORPH_CLOSE, kernel, iterations = 2) \n",
    "        # Background area using Dialation \n",
    "        bg = cv2.dilate(closing, kernel, iterations = 1)   \n",
    "        # Finding foreground area \n",
    "        dist_transform = cv2.distanceTransform(closing, cv2.DIST_L2, 0) \n",
    "        ret, fg = cv2.threshold(dist_transform, 0.01 * dist_transform.max(), 255, 0)\n",
    "        \n",
    "        # Saving the images into segmented directory\n",
    "        cv2.imwrite(\"../Data/test_segmented/{}/{}\".format(int(path.split('\\\\')[-1]), img.split('\\\\')[-1]), fg)"
   ]
  },
  {
   "cell_type": "code",
   "execution_count": 29,
   "metadata": {},
   "outputs": [],
   "source": [
    "for path in valid_paths:\n",
    "    \n",
    "    # Selecting all the images from the selected path\n",
    "    class_imgs = [os.path.join(path, k) for k in os.listdir(path)]\n",
    "    \n",
    "    # Iterating over the images one by one and segmenting each one\n",
    "    for img in class_imgs:\n",
    "        \n",
    "        # Reading the RGB image\n",
    "        image_RGB = cv2.imread(img, 1)\n",
    "        \n",
    "        # Converting to GRAY_SCALE\n",
    "        image_GRAY = cv2.cvtColor(image_RGB, cv2.COLOR_BGR2GRAY)\n",
    "        \n",
    "        # Segmenting the images\n",
    "        ret, thresh = cv2.threshold(image_GRAY,0,255,cv2.THRESH_BINARY_INV+cv2.THRESH_OTSU)\n",
    "        \n",
    "        # Noise Removal Process\n",
    "        # Closing operation \n",
    "        kernel = np.ones((3, 3), np.uint8) \n",
    "        closing = cv2.morphologyEx(thresh, cv2.MORPH_CLOSE, kernel, iterations = 2) \n",
    "        # Background area using Dialation \n",
    "        bg = cv2.dilate(closing, kernel, iterations = 1)   \n",
    "        # Finding foreground area \n",
    "        dist_transform = cv2.distanceTransform(closing, cv2.DIST_L2, 0) \n",
    "        ret, fg = cv2.threshold(dist_transform, 0.01 * dist_transform.max(), 255, 0)\n",
    "        \n",
    "        # Saving the images into segmented directory\n",
    "        cv2.imwrite(\"../Data/valid_segmented/{}/{}\".format(int(path.split('\\\\')[-1]), img.split('\\\\')[-1]), fg)"
   ]
  },
  {
   "cell_type": "markdown",
   "metadata": {},
   "source": [
    "---"
   ]
  }
 ],
 "metadata": {
  "kernelspec": {
   "display_name": "Python 3",
   "language": "python",
   "name": "python3"
  },
  "language_info": {
   "codemirror_mode": {
    "name": "ipython",
    "version": 3
   },
   "file_extension": ".py",
   "mimetype": "text/x-python",
   "name": "python",
   "nbconvert_exporter": "python",
   "pygments_lexer": "ipython3",
   "version": "3.6.7"
  }
 },
 "nbformat": 4,
 "nbformat_minor": 2
}
