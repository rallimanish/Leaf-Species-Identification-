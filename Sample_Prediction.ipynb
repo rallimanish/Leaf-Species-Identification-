{
 "cells": [
  {
   "cell_type": "code",
   "execution_count": 1,
   "metadata": {},
   "outputs": [
    {
     "name": "stderr",
     "output_type": "stream",
     "text": [
      "Using TensorFlow backend.\n"
     ]
    }
   ],
   "source": [
    "# Importing the Required Libraries\n",
    "\n",
    "import scipy.ndimage\n",
    "import numpy as np\n",
    "from keras.models import load_model\n",
    "from keras.preprocessing.image import img_to_array\n",
    "import cv2\n",
    "import matplotlib.pyplot as plt\n",
    "%matplotlib inline\n",
    "from utils import words_dict"
   ]
  },
  {
   "cell_type": "code",
   "execution_count": 2,
   "metadata": {},
   "outputs": [],
   "source": [
    "# Loading our Fine Tuned VGG16 Model\n",
    "\n",
    "model = load_model('Fine_Tuned_VGG16.h5')"
   ]
  },
  {
   "cell_type": "code",
   "execution_count": 3,
   "metadata": {},
   "outputs": [],
   "source": [
    "# Load an Image\n",
    "\n",
    "image_RGB = cv2.imread('download.jpg', 1)"
   ]
  },
  {
   "cell_type": "code",
   "execution_count": 4,
   "metadata": {},
   "outputs": [],
   "source": [
    "# Converting to GRAY_SCALE\n",
    "\n",
    "image_GRAY = cv2.cvtColor(image_RGB, cv2.COLOR_BGR2GRAY)"
   ]
  },
  {
   "cell_type": "code",
   "execution_count": 5,
   "metadata": {},
   "outputs": [],
   "source": [
    "# Segmenting the images\n",
    "\n",
    "ret, thresh = cv2.threshold(image_GRAY,0,255,cv2.THRESH_BINARY_INV+cv2.THRESH_OTSU)"
   ]
  },
  {
   "cell_type": "code",
   "execution_count": 6,
   "metadata": {},
   "outputs": [],
   "source": [
    "# Noise Removal Process\n",
    "\n",
    "# Closing operation \n",
    "kernel = np.ones((3, 3), np.uint8) \n",
    "closing = cv2.morphologyEx(thresh, cv2.MORPH_CLOSE, kernel, iterations = 2) \n",
    "# Background area using Dialation \n",
    "bg = cv2.dilate(closing, kernel, iterations = 1)   \n",
    "# Finding foreground area \n",
    "dist_transform = cv2.distanceTransform(closing, cv2.DIST_L2, 0) \n",
    "ret, fg = cv2.threshold(dist_transform, 0.01 * dist_transform.max(), 255, 0)"
   ]
  },
  {
   "cell_type": "code",
   "execution_count": 7,
   "metadata": {},
   "outputs": [
    {
     "data": {
      "image/png": "[encoded data removed]",
      "text/plain": [
       "<Figure size 432x288 with 1 Axes>"
      ]
     },
     "metadata": {},
     "output_type": "display_data"
    }
   ],
   "source": [
    "# Display The Final Transformed Image\n",
    "\n",
    "plt.imshow(fg, cmap=\"Greys_r\")\n",
    "plt.xticks([]), plt.yticks([])\n",
    "plt.show()"
   ]
  },
  {
   "cell_type": "code",
   "execution_count": 8,
   "metadata": {},
   "outputs": [],
   "source": [
    "# Adding 3 channels to image and resizing it into (224, 224)\n",
    "\n",
    "nchannels = 3\n",
    "image = np.resize(fg, (224, 224, nchannels))\n",
    "\n",
    "image = img_to_array(image)\n",
    "image = np.expand_dims(image, axis = 0)"
   ]
  },
  {
   "cell_type": "code",
   "execution_count": 9,
   "metadata": {},
   "outputs": [
    {
     "name": "stdout",
     "output_type": "stream",
     "text": [
      "[0.014250560663640499, 0.1422475278377533, 0.008944918401539326, 0.0007246885797940195, 0.4690897464752197, 0.1279885619878769, 0.1115751713514328, 0.017577650025486946, 0.08517228066921234, 0.022428924217820168]\n"
     ]
    }
   ],
   "source": [
    "# Predicting the Results\n",
    "\n",
    "prediction = model.predict(image).tolist()[0]\n",
    "print(prediction)"
   ]
  },
  {
   "cell_type": "code",
   "execution_count": 10,
   "metadata": {},
   "outputs": [
    {
     "data": {
      "text/plain": [
       "' cedrus deodara'"
      ]
     },
     "execution_count": 10,
     "metadata": {},
     "output_type": "execute_result"
    }
   ],
   "source": [
    "# Predicting the Actual Label for the image\n",
    "\n",
    "label = str(prediction.index(max(prediction)) + 1)\n",
    "words_dict[label]"
   ]
  },
  {
   "cell_type": "markdown",
   "metadata": {},
   "source": [
    "---"
   ]
  }
 ],
 "metadata": {
  "kernelspec": {
   "display_name": "Python 3",
   "language": "python",
   "name": "python3"
  },
  "language_info": {
   "codemirror_mode": {
    "name": "ipython",
    "version": 3
   },
   "file_extension": ".py",
   "mimetype": "text/x-python",
   "name": "python",
   "nbconvert_exporter": "python",
   "pygments_lexer": "ipython3",
   "version": "3.6.7"
  }
 },
 "nbformat": 4,
 "nbformat_minor": 2
}
